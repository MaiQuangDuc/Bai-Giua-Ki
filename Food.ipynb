{
  "nbformat": 4,
  "nbformat_minor": 0,
  "metadata": {
    "colab": {
      "provenance": [],
      "authorship_tag": "ABX9TyMg8cu8vmEELeIxQnMkDzH7",
      "include_colab_link": true
    },
    "kernelspec": {
      "name": "python3",
      "display_name": "Python 3"
    },
    "language_info": {
      "name": "python"
    }
  },
  "cells": [
    {
      "cell_type": "markdown",
      "metadata": {
        "id": "view-in-github",
        "colab_type": "text"
      },
      "source": [
        "<a href=\"https://colab.research.google.com/github/MaiQuangDuc/Bai-Giua-Ki/blob/main/Food.ipynb\" target=\"_parent\"><img src=\"https://colab.research.google.com/assets/colab-badge.svg\" alt=\"Open In Colab\"/></a>"
      ]
    },
    {
      "cell_type": "code",
      "execution_count": null,
      "metadata": {
        "id": "odxiIHT7hXM3"
      },
      "outputs": [],
      "source": [
        "from sklearn.model_selection import train_test_split\n",
        "import matplotlib.pyplot as plt\n",
        "import os\n",
        "import numpy as np\n",
        "import tensorflow as tf\n",
        "from keras.utils import np_utils\n",
        "from keras.models import Sequential\n",
        "from keras.layers import Dense, Activation, Dropout, Conv2D, MaxPooling2D, Flatten\n",
        "from tensorflow.keras.optimizers import SGD, RMSprop\n",
        "from keras.callbacks import EarlyStopping, ModelCheckpoint\n",
        "from sklearn.utils import validation \n",
        "from sklearn import preprocessing\n",
        "from tensorflow.keras.utils import to_categorical\n",
        "from tensorflow.keras.models import load_model\n",
        "from tensorflow.keras.utils import load_img, img_to_array\n",
        "from tensorflow.keras.preprocessing.image import ImageDataGenerator"
      ]
    },
    {
      "cell_type": "code",
      "source": [
        "from google.colab import drive\n",
        "drive.mount('/content/gdrive')"
      ],
      "metadata": {
        "id": "O9L-vWPxhdTg"
      },
      "execution_count": null,
      "outputs": []
    },
    {
      "cell_type": "code",
      "source": [
        "%cd /content/gdrive/MyDrive/BT AI/Do an/Food"
      ],
      "metadata": {
        "id": "9pue__OHhee7"
      },
      "execution_count": null,
      "outputs": []
    },
    {
      "cell_type": "code",
      "source": [
        "train_datagen=ImageDataGenerator(rescale=1./255, shear_range=0.2, zoom_range=0.2, horizontal_flip=True)"
      ],
      "metadata": {
        "id": "v9-fJsxVhgXV"
      },
      "execution_count": null,
      "outputs": []
    },
    {
      "cell_type": "code",
      "source": [
        "training_set=train_datagen.flow_from_directory('/content/gdrive/MyDrive/AI/Do an/Food/Train',target_size=(150,150), batch_size=32, class_mode='categorical')"
      ],
      "metadata": {
        "id": "EtIWUwPthiOh"
      },
      "execution_count": null,
      "outputs": []
    },
    {
      "cell_type": "code",
      "source": [
        "validation=train_datagen.flow_from_directory('/content/gdrive/MyDrive/AI/Do an/Food/validation',target_size=(150,150), batch_size=32, class_mode='categorical'"
      ],
      "metadata": {
        "id": "mTlfh7CJhkoI"
      },
      "execution_count": null,
      "outputs": []
    },
    {
      "cell_type": "code",
      "source": [
        "training_set.class_indices"
      ],
      "metadata": {
        "id": "cBqh-aD1hnQH"
      },
      "execution_count": null,
      "outputs": []
    },
    {
      "cell_type": "code",
      "source": [
        "validation.class_indices"
      ],
      "metadata": {
        "id": "qjgcKK6Uhrvo"
      },
      "execution_count": null,
      "outputs": []
    },
    {
      "cell_type": "code",
      "source": [
        "model=Sequential()\n",
        "\n",
        "model.add(Conv2D(32,(3,3), activation='relu', kernel_initializer='he_uniform', padding='same',input_shape=(150,150,3))) \n",
        "model.add(Conv2D(32,(3,3), activation='relu', kernel_initializer='he_uniform', padding='same'))\n",
        "\n",
        "model.add(MaxPooling2D(2,2))\n",
        "\n",
        "model.add(Conv2D(64,(3,3), activation='relu', kernel_initializer='he_uniform', padding='same')) \n",
        "model.add(Conv2D(64,(3,3), activation='relu', kernel_initializer='he_uniform', padding='same'))\n",
        "\n",
        "model.add(MaxPooling2D(2,2))\n",
        "\n",
        "model.add(Conv2D(128,(3,3), activation='relu', kernel_initializer='he_uniform', padding='same')) \n",
        "model.add(Conv2D(128,(3,3), activation='relu', kernel_initializer='he_uniform', padding='same'))\n",
        "\n",
        "model.add(MaxPooling2D(2,2))\n",
        "\n",
        "model.add(Flatten())\n",
        "\n",
        "model.add(Dense(128,activation='relu',kernel_initializer='he_uniform'))\n",
        "model.add(Dropout(0.2))\n",
        "\n",
        "model.add(Dense(10,activation='softmax'))\n",
        "model.summary()"
      ],
      "metadata": {
        "id": "yqkhsWqHhtqH"
      },
      "execution_count": null,
      "outputs": []
    },
    {
      "cell_type": "code",
      "source": [
        "\n",
        "model.compile(optimizer='adam',loss='categorical_crossentropy',metrics=['accuracy'])\n",
        "\n",
        "history=model.fit(training_set,epochs=50,batch_size=128,verbose=1, validation_data=validation, callbacks=[EarlyStopping(monitor='val_loss', patience=30)])"
      ],
      "metadata": {
        "id": "NIggwhOnhvbH"
      },
      "execution_count": null,
      "outputs": []
    },
    {
      "cell_type": "code",
      "source": [
        "Score=model.evaluate(training_set,verbose=0)\n",
        "print('Train Loss', Score[0])\n",
        "print('Train Accuracy', Score[1])"
      ],
      "metadata": {
        "id": "B6H99--OhyDK"
      },
      "execution_count": null,
      "outputs": []
    },
    {
      "cell_type": "code",
      "source": [
        "model.save(\"Food.h5\")"
      ],
      "metadata": {
        "id": "Qfk6xTzphyij"
      },
      "execution_count": null,
      "outputs": []
    },
    {
      "cell_type": "code",
      "source": [
        "model_CNN=load_model('Food.h5')"
      ],
      "metadata": {
        "id": "WNDOwviVhzsS"
      },
      "execution_count": null,
      "outputs": []
    },
    {
      "cell_type": "code",
      "source": [
        "test='/content/gdrive/MyDrive/AI/Do an/Food/Test/Test1'\n",
        "\n",
        "for i in os.listdir(test):\n",
        "  img=load_img(test+'/'+i,target_size=(150,150))\n",
        "  plt.imshow(img)\n",
        "  img=img_to_array(img)\n",
        "  img=img.astype('float32')\n",
        "  img=img/255\n",
        "  img=np.expand_dims(img,axis=0)\n",
        "  result=model_CNN.predict(img)\n",
        "  if round(result[0][0])==1:\n",
        "    prediction='BANH CUON'\n",
        "  if round(result[0][1])==1:\n",
        "    prediction='BANH MI'\n",
        "  if round(result[0][2])==1:\n",
        "    prediction='BANH PIA'\n",
        "  if round(result[0][3])==1:\n",
        "    prediction='BANH TET'\n",
        "  if round(result[0][4])==1:\n",
        "    prediction='BANH XEO'\n",
        "  if round(result[0][5])==1:\n",
        "    prediction='BUN DAU MAM TOM'\n",
        "  if round(result[0][6])==1:\n",
        "    prediction='CA KHO TO'\n",
        "  if round(result[0][7])==1:\n",
        "    prediction='COM TAM'\n",
        "  if round(result[0][8])==1:\n",
        "    prediction='NEM'\n",
        "  if round(result[0][9])==1:\n",
        "    prediction='PHO'\n",
        "  print(prediction)\n",
        "  plt.show()"
      ],
      "metadata": {
        "id": "X716AEiVh2IS"
      },
      "execution_count": null,
      "outputs": []
    }
  ]
}